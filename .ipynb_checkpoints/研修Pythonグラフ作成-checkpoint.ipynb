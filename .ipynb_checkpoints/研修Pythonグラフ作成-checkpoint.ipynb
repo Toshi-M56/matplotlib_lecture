{
 "cells": [
  {
   "cell_type": "code",
   "execution_count": null,
   "metadata": {
    "executionInfo": {
     "elapsed": 13,
     "status": "ok",
     "timestamp": 1624721276679,
     "user": {
      "displayName": "T M",
      "photoUrl": "https://lh3.googleusercontent.com/a-/AOh14GhSFxbTu4b3Z6DL_rZfJG88M43eo3Aa6SX4XSd0_GY=s64",
      "userId": "08167140561097621644"
     },
     "user_tz": -540
    },
    "id": "DcLRGrzW6l31"
   },
   "outputs": [],
   "source": []
  },
  {
   "cell_type": "code",
   "execution_count": null,
   "metadata": {},
   "outputs": [],
   "source": []
  },
  {
   "cell_type": "markdown",
   "metadata": {},
   "source": [
    "# Pythonを使用したグラフ作成入門\n",
    "\n",
    "ここでは，グラフ描画ライブラリmatplotlibを使ったグラフ作成の基礎について学んでいきます．  \n",
    "このホームページは[Colaboratory](https://colab.research.google.com/notebooks/intro.ipynb?hl=ja)と呼ばれるGoogleが提供するサービスで，  \n",
    "Googleが提供するサーバを使って自由にPythonプログラムを記述・実行することができます．  \n",
    "Webブラウザさえあればいいため，環境構築の手間がなく，  \n",
    "PCのスペックが低くてもネット環境さえあれば本格的なPythonプログラムを作成して実行することができます．"
   ]
  },
  {
   "cell_type": "markdown",
   "metadata": {},
   "source": [
    "## 必要なライブラリのインポート\n",
    "ここでは，matplotlibとnumpyの二つのライブラリを使うために，\n",
    "以下のようなコードを書いてimportを行います．  \n",
    "matplotlib.pyplotはグラフ描写用のライブラリであり．\n",
    "numpyは数値計算に便利な機能が集まったライブラリです．  \n",
    "このように書くと，matplotlib.pyplotをpltとして，numpyをnpとして利用することができるようになります．\n",
    "\n",
    "__プログラムが書いてある灰色の箱（セル）をクリックして選択し，SHIFTキーを押しながらENTERキーを押してください．__"
   ]
  },
  {
   "cell_type": "code",
   "execution_count": null,
   "metadata": {},
   "outputs": [],
   "source": [
    "import matplotlib.pyplot as plt\n",
    "import numpy as np"
   ]
  },
  {
   "cell_type": "markdown",
   "metadata": {},
   "source": [
    "# plt.plot()による折れ線グラフの描写\n",
    "\n",
    "グラフとしてプロットするデータを作ります．  \n",
    "仮に [1.8, 0.4, 0.9, 2.2, 1.8, -0.9, 0.9, -0.2, -0.1, 0.4] という10個のデータが得られたとします．  \n",
    "まずは，``np.array()``メソッドを使ってpythonで扱いやすい数の集まり（配列）にまとめ，\n",
    "dataという変数に代入しましょう．  \n",
    "\n",
    "__( ソースコードの中で，#記号より右に書いてあるのはプログラムではなく，分かりやすくするためのメモ書きです )__"
   ]
  },
  {
   "cell_type": "code",
   "execution_count": null,
   "metadata": {
    "colab": {
     "base_uri": "https://localhost:8080/"
    },
    "executionInfo": {
     "elapsed": 430,
     "status": "ok",
     "timestamp": 1624721279470,
     "user": {
      "displayName": "T M",
      "photoUrl": "https://lh3.googleusercontent.com/a-/AOh14GhSFxbTu4b3Z6DL_rZfJG88M43eo3Aa6SX4XSd0_GY=s64",
      "userId": "08167140561097621644"
     },
     "user_tz": -540
    },
    "id": "tq5r9hPp6qJW",
    "outputId": "5f8fe5b1-ba8d-4233-876c-0539b33b28d9"
   },
   "outputs": [],
   "source": [
    "data = np.array([1.8, 0.4, 0.9, 2.2, 1.8, -0.9, 0.9, -0.2, -0.1, 0.4])  #10個を配列にして,dataと名付けた変数に代入\n",
    "print(data)                 #dataを画面にプリント"
   ]
  },
  {
   "cell_type": "markdown",
   "metadata": {},
   "source": [
    "このようにランダムな値が10個入ったデータを作りました．\n",
    "今後はこの値を仮想的な実験データだとして，そのグラフを作っていきます．"
   ]
  },
  {
   "cell_type": "markdown",
   "metadata": {},
   "source": [
    "では，``data``に入った10個の数値をグラフにプロットしてみましょう．  \n",
    "``plt.plot()``メソッド(関数)を以下のように使い，その後に``plt.show()``メソッドを実行すると表示されます．"
   ]
  },
  {
   "cell_type": "code",
   "execution_count": null,
   "metadata": {
    "colab": {
     "base_uri": "https://localhost:8080/",
     "height": 265
    },
    "executionInfo": {
     "elapsed": 552,
     "status": "ok",
     "timestamp": 1624721282019,
     "user": {
      "displayName": "T M",
      "photoUrl": "https://lh3.googleusercontent.com/a-/AOh14GhSFxbTu4b3Z6DL_rZfJG88M43eo3Aa6SX4XSd0_GY=s64",
      "userId": "08167140561097621644"
     },
     "user_tz": -540
    },
    "id": "TD8QVvXo6-ld",
    "outputId": "8f274b73-e590-4d07-a027-029138c8151e"
   },
   "outputs": [],
   "source": [
    "plt.plot(data)  #dataの値をグラフにプロット\n",
    "plt.show()      #グラフを画面に表示する"
   ]
  },
  {
   "cell_type": "markdown",
   "metadata": {
    "executionInfo": {
     "elapsed": 3,
     "status": "ok",
     "timestamp": 1624721285158,
     "user": {
      "displayName": "T M",
      "photoUrl": "https://lh3.googleusercontent.com/a-/AOh14GhSFxbTu4b3Z6DL_rZfJG88M43eo3Aa6SX4XSd0_GY=s64",
      "userId": "08167140561097621644"
     },
     "user_tz": -540
    },
    "id": "s6hthxUkntWW"
   },
   "source": [
    "Pythonでmatplotlibを使うとこのように簡単にグラフを描写できました．  \n",
    "``plt.plot(データ)``とすることで，簡単にグラフを書くことができますが，  "
   ]
  },
  {
   "cell_type": "markdown",
   "metadata": {},
   "source": [
    "## Axesオブジェクトを使ったグラフの描写\n",
    "これ以降は次のような作法に従ってグラフを描写していきましょう．"
   ]
  },
  {
   "cell_type": "code",
   "execution_count": null,
   "metadata": {
    "colab": {
     "base_uri": "https://localhost:8080/",
     "height": 265
    },
    "executionInfo": {
     "elapsed": 634,
     "status": "ok",
     "timestamp": 1624721286831,
     "user": {
      "displayName": "T M",
      "photoUrl": "https://lh3.googleusercontent.com/a-/AOh14GhSFxbTu4b3Z6DL_rZfJG88M43eo3Aa6SX4XSd0_GY=s64",
      "userId": "08167140561097621644"
     },
     "user_tz": -540
    },
    "id": "1E2l5x3VntIj",
    "outputId": "0bddde4b-5eef-4961-c473-1319b54ba46c"
   },
   "outputs": [],
   "source": [
    "fig = plt.figure() #Figureオブジェクトを生成\n",
    "ax = fig.add_subplot(111) #Figreオブジェクトの中にAxesオブジェクトを生成\n",
    "ax.plot(data) #Axesオブジェクトのplotメソッドを使ってグラフを描写．\n",
    "plt.show()"
   ]
  },
  {
   "cell_type": "markdown",
   "metadata": {},
   "source": [
    "figは図の大枠，axは図の中の一つのグラフと考えれば大丈夫です．  \n",
    "今は細かいことを考える必要はありませんので  \n",
    "``fig = plt.figure()``で図の枠を作り，  \n",
    "`ax = fig.add_subplot(111)`でグラフの枠をつくり．  \n",
    "``ax.plot(データ)``でグラフにデータをプロットすると考えれば大丈夫です．"
   ]
  },
  {
   "cell_type": "markdown",
   "metadata": {},
   "source": [
    "## dots per inch (dpi) を指定して高画質に\n",
    "``fig = plt.figure(dpi=200)``のようにしてfigを作成する時に引数に\n",
    "dpiの値を指定するとそれに合わせた画質のグラフを作ることができます．"
   ]
  },
  {
   "cell_type": "code",
   "execution_count": null,
   "metadata": {
    "colab": {
     "base_uri": "https://localhost:8080/",
     "height": 672
    },
    "executionInfo": {
     "elapsed": 748,
     "status": "ok",
     "timestamp": 1624721294584,
     "user": {
      "displayName": "T M",
      "photoUrl": "https://lh3.googleusercontent.com/a-/AOh14GhSFxbTu4b3Z6DL_rZfJG88M43eo3Aa6SX4XSd0_GY=s64",
      "userId": "08167140561097621644"
     },
     "user_tz": -540
    },
    "id": "5-2Hh8Pvr-c1",
    "outputId": "efd60086-ee1b-4b47-9f86-c214625c8ccb"
   },
   "outputs": [],
   "source": [
    "fig = plt.figure(dpi=200)#dpi値を指定する\n",
    "ax = fig.add_subplot(111)\n",
    "ax.plot(data)\n",
    "plt.show()"
   ]
  },
  {
   "cell_type": "markdown",
   "metadata": {},
   "source": [
    "## マーカーを指定する\n",
    "``ax.plot(データ)``でグラフを描写する際に，  \n",
    "``ax.plot(データ, marker='o')``のようにマーカーを指定することができます．\n",
    "下の例では``'o'``を使っていますが，他にも````や````など様々なバリエーションがあります(実際に書き換えてみましょう)．  \n",
    "マーカーのバリエーションは[公式ページ](https://matplotlib.org/stable/api/markers_api.html)にまとめてあるので色々と試してみてください．"
   ]
  },
  {
   "cell_type": "code",
   "execution_count": null,
   "metadata": {
    "id": "QmxhqAOC7cWO"
   },
   "outputs": [],
   "source": [
    "fig = plt.figure()\n",
    "ax = fig.add_subplot(111)\n",
    "ax.plot(data, marker='o')#マーカーを指定する\n",
    "plt.show()"
   ]
  },
  {
   "cell_type": "markdown",
   "metadata": {},
   "source": [
    "## グリッド線を引く\n",
    "以下のようにax.grid()メソッドを使うとグラフにグリッド線を引くことができます．"
   ]
  },
  {
   "cell_type": "code",
   "execution_count": null,
   "metadata": {
    "id": "ABLycOQ_8DZB"
   },
   "outputs": [],
   "source": [
    "fig = plt.figure()\n",
    "ax = fig.add_subplot(111)\n",
    "ax.plot(data, marker='o')\n",
    "ax.grid()  #グラフにグリッド線を描く\n",
    "plt.show()"
   ]
  },
  {
   "cell_type": "markdown",
   "metadata": {},
   "source": [
    "## タイトル・x軸/y軸を書く\n",
    "``ax.set_title(タイトル文字列)``でタイトルを書き込むことができます．  \n",
    "また，\n",
    "``ax.set_xlabel(x軸名文字列)``でx軸を，\n",
    "``ax.set_ylabel(y軸名文字列)``でy軸を書くことができます"
   ]
  },
  {
   "cell_type": "code",
   "execution_count": null,
   "metadata": {
    "id": "wlRmnFKM8iKd"
   },
   "outputs": [],
   "source": [
    "fig = plt.figure()\n",
    "ax = fig.add_subplot(111)\n",
    "ax.plot(data, marker='o')\n",
    "ax.set_title('random data') #グラフタイトルを書く\n",
    "ax.set_xlabel('x axis')     #x軸の名前を書く\n",
    "ax.set_ylabel('y axis')     #y軸の名前を書く\n",
    "plt.show()"
   ]
  },
  {
   "cell_type": "markdown",
   "metadata": {},
   "source": [
    "## 日本語に対応させる\n",
    "実はmatplotlibはデフォルトでは日本語に対応していないので，  \n",
    "グラフに日本語のタイトルをつけることができません．  \n",
    "しかし，japanize-matplotlibというライブラリをインストールして導入すればなんとかなります．  \n",
    "ここでは呪文だと思って以下のコードを実行しておきましょう．"
   ]
  },
  {
   "cell_type": "code",
   "execution_count": null,
   "metadata": {
    "id": "BpAQKxqx8pRm"
   },
   "outputs": [],
   "source": [
    "!pip install japanize-matplotlib #japanize-matplotlibをインストール(Googleのサーバーに)\n",
    "import japanize_matplotlib #japanize-matplotlibをこのプログラムにimportする"
   ]
  },
  {
   "cell_type": "markdown",
   "metadata": {},
   "source": [
    "## これでmatplotlibに日本語を使うことができるようになります．"
   ]
  },
  {
   "cell_type": "code",
   "execution_count": null,
   "metadata": {
    "id": "3mQHf7Bd9DJ_"
   },
   "outputs": [],
   "source": [
    "fig = plt.figure()\n",
    "ax = fig.add_subplot(111)\n",
    "ax.plot(data, marker='o')\n",
    "ax.set_title('ランダムデータ')\n",
    "ax.set_xlabel('x軸')\n",
    "ax.set_ylabel('y軸')\n",
    "plt.show()"
   ]
  },
  {
   "cell_type": "markdown",
   "metadata": {},
   "source": [
    "## タイトルや軸のフォントを大きくする．\n",
    "``ax.set_title()``などのグラフにテキストを盛り込むメソッドにおいて,  \n",
    "fontsize引数を指定することで，以下のように文字フォントの大きさを変えることができます．"
   ]
  },
  {
   "cell_type": "code",
   "execution_count": null,
   "metadata": {
    "id": "Ffk11Jc59T8A"
   },
   "outputs": [],
   "source": [
    "fig = plt.figure()\n",
    "ax = fig.add_subplot(111)\n",
    "ax.plot(data, marker='o')\n",
    "ax.set_title('random data', fontsize=30) #fontsizeを30に指定\n",
    "ax.set_xlabel('x axis', fontsize=20) #fontsizeを20に指定\n",
    "ax.set_ylabel('y axis', fontsize=20) #fontsizeを20に指定\n",
    "plt.show()"
   ]
  },
  {
   "cell_type": "markdown",
   "metadata": {},
   "source": [
    "## ここからは複数のデータをプロットしていきましょう．\n",
    "以下のように三つのランダムデータ(data1, data2, data3)を用意します．  \n",
    "``np.random.randn(10)``のように書くと  \n",
    "正規分布に従った乱数(ランダムな値)を10個生成することができます．  \n",
    "``np.random.seed(0)``は乱数シードの固定です．細かいことはここでは省きますが，  \n",
    "これにより何度実行しても同じ乱数値を生成することができます．"
   ]
  },
  {
   "cell_type": "code",
   "execution_count": null,
   "metadata": {
    "id": "H3BGUNP7-bqc"
   },
   "outputs": [],
   "source": [
    "np.random.seed(0)\n",
    "data1 = np.random.randn(10)+5.0\n",
    "data2 = np.random.randn(10)+3.0\n",
    "data3 = np.random.randn(10)+2.0"
   ]
  },
  {
   "cell_type": "markdown",
   "metadata": {},
   "source": [
    "## 複数のデータをプロット\n",
    "プロットしたいデータが複数のときは，以下のように``ax.plot(データ)``を連続して実行すれば大丈夫です．"
   ]
  },
  {
   "cell_type": "code",
   "execution_count": null,
   "metadata": {
    "id": "qH2zTrzi_EbN"
   },
   "outputs": [],
   "source": [
    "fig = plt.figure()\n",
    "ax = fig.add_subplot(111)\n",
    "ax.plot(data1, marker='o')\n",
    "ax.plot(data2, marker='x')\n",
    "ax.plot(data3, marker='^')\n",
    "plt.show()"
   ]
  },
  {
   "cell_type": "markdown",
   "metadata": {},
   "source": [
    "## グラフの色指定（color引数）\n",
    "``ax.plot()``を実行する際に，color引数で色を指定することができます．  \n",
    "カラー指定のバリエーションは[公式ホームページ](https://matplotlib.org/stable/gallery/color/named_colors.html)に詳しく載っています．"
   ]
  },
  {
   "cell_type": "code",
   "execution_count": null,
   "metadata": {
    "id": "ASSvMt0a_EW_"
   },
   "outputs": [],
   "source": [
    "fig = plt.figure()\n",
    "ax = fig.add_subplot(111)\n",
    "ax.plot(data1, marker='o', color='red')    #color='red'とすれば赤になる\n",
    "ax.plot(data2, marker='x', color='blue')   #color='blue'とすれば青になる\n",
    "ax.plot(data3, marker='^', color='#00ff00')#RGB値で指定することもできる\n",
    "plt.show()"
   ]
  },
  {
   "cell_type": "markdown",
   "metadata": {},
   "source": [
    "## グラフの凡例をつける（label引数）\n",
    "``ax.plot()``を実行する際に，label引数で凡例の名前を決めることができます．  \n",
    "グラフに凡例名をつけておき，``ax.legend()``メソッドを使うことでグラフに表示できます．  \n",
    "ちなみに``ax.legend()``メソッドのloc引数を指定することで位置を変更できます．  \n",
    "位置のバリエーションは[こちらのページ](https://matplotlib.org/stable/api/_as_gen/matplotlib.pyplot.legend.html)\n",
    "に詳しく載っています．"
   ]
  },
  {
   "cell_type": "code",
   "execution_count": null,
   "metadata": {
    "id": "jbasuIEq_EST"
   },
   "outputs": [],
   "source": [
    "fig = plt.figure()\n",
    "ax = fig.add_subplot(111)\n",
    "ax.plot(data1, marker='o', color='red', label='Data1')  #label引数を使って，データの凡例の名前をそれぞれ\n",
    "ax.plot(data2, marker='x', color='blue', label='Data2') #Data1, Data2, Data3と設定\n",
    "ax.plot(data3, marker='^', color='green', label='Data3')\n",
    "ax.legend(loc='upper right')\n",
    "plt.show()"
   ]
  },
  {
   "cell_type": "markdown",
   "metadata": {},
   "source": [
    "## 色々な線を描く （linestyle引数）\n",
    "``ax.plot()``を実行する際に，linestyle引数で線の種類を決めることができます．  \n",
    "線のバリエーションは[こちらのページ](https://matplotlib.org/stable/gallery/lines_bars_and_markers/linestyles.html)\n",
    "に詳しく載っています．"
   ]
  },
  {
   "cell_type": "code",
   "execution_count": null,
   "metadata": {
    "id": "VPWcaemZ_ENF"
   },
   "outputs": [],
   "source": [
    "fig = plt.figure()\n",
    "ax = fig.add_subplot(111)\n",
    "ax.plot(data1, marker='o', color='red', linestyle='solid')\n",
    "ax.plot(data2, marker='x', color='blue', linestyle='dotted')\n",
    "ax.plot(data3, marker='^', color='green', linestyle='dashed')\n",
    "plt.show()\n"
   ]
  },
  {
   "cell_type": "markdown",
   "metadata": {},
   "source": [
    "## 全部のせグラフ\n",
    "ここまでやってきたことを全て実行するとこのようにグラフが書けます．"
   ]
  },
  {
   "cell_type": "code",
   "execution_count": null,
   "metadata": {
    "id": "wEl8unmm_D73"
   },
   "outputs": [],
   "source": [
    "fig = plt.figure(dpi=200)\n",
    "ax = fig.add_subplot(111)\n",
    "\n",
    "ax.plot(data1, marker='o', color='red', label='Sample1', linestyle='--')\n",
    "ax.plot(data2, marker='x', color='blue', label='Sample2', linestyle='-')\n",
    "ax.plot(data3, marker='^', color='green', label='Sample3', linestyle=':')\n",
    "ax.grid()\n",
    "ax.set_title('random data', fontsize=20)\n",
    "ax.set_xlabel('x axis', fontsize=20)\n",
    "ax.set_ylabel('y axis', fontsize=20)\n",
    "\n",
    "ax.legend(loc='upper right')\n",
    "plt.show()"
   ]
  },
  {
   "cell_type": "markdown",
   "metadata": {
    "id": "wMPZ8ZniCCjJ"
   },
   "source": [
    "# 散布図の書き方\n",
    "ここまでは，折れ線グラフの書き方を学んできました．\n",
    "ここからは散布図の書き方をやっていきましょう．  "
   ]
  },
  {
   "cell_type": "markdown",
   "metadata": {},
   "source": [
    "## サンプルデータの生成\n",
    "散布図のデータとして使う乱数データを作り出しておきましょう．  \n",
    "ここでは仮想的なデータとして男女それぞれ25人の年齢と身長に関するデータを生成します．  \n",
    "m_ageが25人分の男性の年齢,m_heightが25人分の男性の身長だとし,\n",
    "f_ageとf_heightは女性25人分のデータだとします．  \n",
    "__（乱数で適当に生成したものであり，実際のデータではありません）__"
   ]
  },
  {
   "cell_type": "code",
   "execution_count": null,
   "metadata": {
    "id": "W2U8_oW5CCb-"
   },
   "outputs": [],
   "source": [
    "np.random.seed(1)\n",
    "N=25\n",
    "#男性25人分の年齢と身長\n",
    "m_age = (10 + 25 * np.random.rand(N)).astype(np.int)\n",
    "m_height = 172 - 108 * np.exp(-0.2 * m_age) + 2 * np.random.randn(N)\n",
    "\n",
    "#女性25人分の年齢と身長\n",
    "f_age = (10 + 25 * np.random.rand(N)).astype(np.int)\n",
    "f_height = 160 - 108 * np.exp(-0.3 * f_age) + 2 * np.random.randn(N)"
   ]
  },
  {
   "cell_type": "markdown",
   "metadata": {},
   "source": [
    "## ax.scatter()による散布図のプロット\n",
    "散布図を描写したい時は，``ax.scatter()``メソッドを使います．  \n",
    "ここで，散布図を描くためにはx軸データとy軸データの二つが必要であることに気をつけましょう．  \n",
    "``ax.scatter(X軸データ, Y軸データ)``のように実行します．"
   ]
  },
  {
   "cell_type": "code",
   "execution_count": null,
   "metadata": {
    "id": "vaW15VfSCCKd"
   },
   "outputs": [],
   "source": [
    "fig = plt.figure()\n",
    "ax = fig.add_subplot(111)\n",
    "ax.scatter(m_age, m_height)#X軸データが男性の年齢，Y軸データが男性の身長\n",
    "ax.scatter(f_age, f_height)#X軸データが女性の年齢，Y軸データが女性の身長"
   ]
  },
  {
   "cell_type": "markdown",
   "metadata": {},
   "source": [
    "## 色指定，マーカー指定，サイズ指定\n",
    "散布図の場合でも，ax.plot()の時と同様に引数に値を指定することで，  \n",
    "様々なグラフの修飾を行うことができます．\n",
    "以下に``color``引数による色指定，``marker``引数によるマーカー指定，  \n",
    "``s``引数によるサイズ指定の例を示します．"
   ]
  },
  {
   "cell_type": "markdown",
   "metadata": {},
   "source": [
    "### 色指定（color引数）"
   ]
  },
  {
   "cell_type": "code",
   "execution_count": null,
   "metadata": {
    "id": "M9_HVbZDCkdp"
   },
   "outputs": [],
   "source": [
    "fig = plt.figure()\n",
    "ax = fig.add_subplot(111)\n",
    "ax.scatter(m_age, m_height, color='blue')\n",
    "ax.scatter(f_age, f_height, color='red')"
   ]
  },
  {
   "cell_type": "markdown",
   "metadata": {},
   "source": [
    "### マーカー指定（marker引数）"
   ]
  },
  {
   "cell_type": "code",
   "execution_count": null,
   "metadata": {
    "id": "osWQ8tObGRes"
   },
   "outputs": [],
   "source": [
    "fig = plt.figure()\n",
    "ax = fig.add_subplot(111)\n",
    "ax.scatter(m_age, m_height, color='blue', marker='o')\n",
    "ax.scatter(f_age, f_height, color='red', marker='^')"
   ]
  },
  {
   "cell_type": "markdown",
   "metadata": {},
   "source": [
    "### サイズ指定（s引数）"
   ]
  },
  {
   "cell_type": "code",
   "execution_count": null,
   "metadata": {
    "id": "ejugsQCiG-Xy"
   },
   "outputs": [],
   "source": [
    "fig = plt.figure()\n",
    "ax = fig.add_subplot(111)\n",
    "ax.scatter(m_age, m_height, color='blue', s=20)\n",
    "ax.scatter(f_age, f_height, color='red', s=60)"
   ]
  },
  {
   "cell_type": "markdown",
   "metadata": {
    "id": "-UXZViKFHN00"
   },
   "source": [
    "# 棒グラフの描き方\n",
    "次にmatplotlibを使った棒グラフの作図方法についてみていきます．"
   ]
  },
  {
   "cell_type": "markdown",
   "metadata": {},
   "source": [
    "## 棒グラフ用のランダムデータを作成する．\n",
    "6つのランダムデータを``data``に代入し，\n",
    "それぞれのデータの番号を``X``に代入しました．"
   ]
  },
  {
   "cell_type": "code",
   "execution_count": null,
   "metadata": {
    "id": "stDg0_ZpHUJH"
   },
   "outputs": [],
   "source": [
    "np.random.seed(0)\n",
    "N=6\n",
    "data = np.random.rand(N)\n",
    "X = list(range(N))\n",
    "print(data)\n",
    "print(X)"
   ]
  },
  {
   "cell_type": "markdown",
   "metadata": {},
   "source": [
    "## 棒グラフの描写\n",
    "棒グラフは``ax.bar()``メソッドを使って以下のように描くことができます．  \n",
    "ここでも``ax.bar(X軸のラベル，Y軸のデータ)``というように  \n",
    "X軸とY軸に相当する二つのデータが必要であることに気をつけましょう．"
   ]
  },
  {
   "cell_type": "code",
   "execution_count": null,
   "metadata": {
    "id": "qiGNf5aWHUCf"
   },
   "outputs": [],
   "source": [
    "fig = plt.figure()\n",
    "ax = fig.add_subplot(111)\n",
    "ax.bar(X, data)   #Xとdataから棒グラフを作成\n",
    "plt.show()"
   ]
  },
  {
   "cell_type": "markdown",
   "metadata": {},
   "source": [
    "## 文字列によるX軸ラベル\n",
    "X軸ラベルは数値である必要はなく任意の文字列でもOKです．\n",
    "このようにすれば，バーごとにラベル付けすることができます．"
   ]
  },
  {
   "cell_type": "code",
   "execution_count": null,
   "metadata": {
    "id": "c4Az0kabHTuo"
   },
   "outputs": [],
   "source": [
    "Name = [\"Tanaka\",\"Sato\",\"Suzuki\",\"Honda\",\"Andou\",\"Goto\"]\n",
    "\n",
    "fig = plt.figure()\n",
    "ax = fig.add_subplot(111)\n",
    "ax.bar(Name, data)  #Nameとdataから棒グラフを作成\n",
    "plt.show()"
   ]
  },
  {
   "cell_type": "markdown",
   "metadata": {},
   "source": [
    "## 横向きの棒グラフ\n",
    "ax.barh()メソッドを使えば，横向きの棒グラフを作成することもできます．"
   ]
  },
  {
   "cell_type": "code",
   "execution_count": null,
   "metadata": {
    "id": "LV8rihphiE4L"
   },
   "outputs": [],
   "source": [
    "fig = plt.figure()\n",
    "ax = fig.add_subplot(111)\n",
    "ax.barh(Name, data)\n",
    "plt.show()"
   ]
  },
  {
   "cell_type": "markdown",
   "metadata": {
    "id": "tWdjVXxRjjou"
   },
   "source": [
    "## 積み上げ棒グラフの作り方\n",
    "複数のデータを棒グラフにする場合，  \n",
    "積み上げることで各データの割合を効果的に示せる場合があります．\n",
    "そのような積み上げ棒グラフも簡単に作ることができます．\n",
    "\n",
    "まずは，3つのサンプルデータを乱数で用意します．"
   ]
  },
  {
   "cell_type": "code",
   "execution_count": null,
   "metadata": {
    "id": "GgFbj2e5j8BT"
   },
   "outputs": [],
   "source": [
    "np.random.seed(0)\n",
    "N=6\n",
    "data1 = np.random.rand(N)\n",
    "data2 = np.random.rand(N)\n",
    "data3 = np.random.rand(N)\n",
    "X = list(range(N))"
   ]
  },
  {
   "cell_type": "markdown",
   "metadata": {},
   "source": [
    "次に，それぞれ３つのデータを個別にグラフにしていきましょう．\n",
    "複数のグラフを並べる際に，以下のようにすると綺麗に並べることができます．"
   ]
  },
  {
   "cell_type": "code",
   "execution_count": null,
   "metadata": {
    "id": "KhNgWAa8j7vN"
   },
   "outputs": [],
   "source": [
    "fig = plt.figure(figsize=(9,3))\n",
    "ax1 = fig.add_subplot(131)\n",
    "ax1.bar(X, data1)\n",
    "\n",
    "ax2 = fig.add_subplot(132)\n",
    "ax2.bar(X, data2)\n",
    "\n",
    "ax3 = fig.add_subplot(133)\n",
    "ax3.bar(X, data3)\n",
    "plt.show()"
   ]
  },
  {
   "cell_type": "markdown",
   "metadata": {},
   "source": [
    "注目すべきなのは，\n",
    "``ax1 = fig.add_subplot(131)``の部分です．  \n",
    "これまで\n",
    "``fig.add_subplot()``メソッドでは，\n",
    "引数に``111``を与えてきました．  \n",
    "この辺りは前に細かいことは考えなくていいと書きましたが， \n",
    "複数グラフを並べる場合にはこの数値の意味を知っておく必要があります．  \n",
    "この数値は「グラフが何行何列に並ぶのか」と「その中で何番目のグラフなのか」を意味する数値になります．  \n",
    "つまり``ax1 = fig.add_subplot(131)``とすれば，``ax1``というグラフは\n",
    "1行3列グラフが並ぶ内の1番目のグラフということになり．  \n",
    "つまり``ax2 = fig.add_subplot(132)``とすれば，``ax2``というグラフは\n",
    "1行3列グラフが並ぶ内の2番目のグラフということになります．"
   ]
  },
  {
   "cell_type": "markdown",
   "metadata": {},
   "source": [
    "それでは次に，三つのグラフを積み上げ棒グラフにしていきましょう．  \n",
    "基本的には``ax.bar()``を繰り返せばいいのですが，\n",
    "上に載せるバーをプロットする場合は，  \n",
    "``bottom``引数に，より下にあるデータの合計を与えましょう．"
   ]
  },
  {
   "cell_type": "code",
   "execution_count": null,
   "metadata": {
    "id": "iLmruB2nkg_A"
   },
   "outputs": [],
   "source": [
    "fig = plt.figure()\n",
    "ax = fig.add_subplot(111)\n",
    "ax.bar(X, data1)\n",
    "ax.bar(X, data2, bottom=data1)\n",
    "ax.bar(X, data3, bottom=data1+data2)"
   ]
  },
  {
   "cell_type": "markdown",
   "metadata": {
    "id": "CmwU7qeak9xi"
   },
   "source": [
    "# 三次元グラフのプロット"
   ]
  },
  {
   "cell_type": "markdown",
   "metadata": {},
   "source": [
    "matplotlibは三次元のグラフを描写することもできます．  \n",
    "そのためには下記のようにmpl_toolkits.mplot3d モジュールから axes3d　ライブラリをimportします．\n",
    "(細かいことはいいので呪文だと思ってください．)"
   ]
  },
  {
   "cell_type": "code",
   "execution_count": null,
   "metadata": {
    "id": "1zTJEmV5ls-t"
   },
   "outputs": [],
   "source": [
    "from mpl_toolkits.mplot3d import axes3d"
   ]
  },
  {
   "cell_type": "markdown",
   "metadata": {},
   "source": [
    "それから，三次元にプロットするためのデータを用意していきます．  \n",
    "ここでは，  \n",
    "$$\n",
    "z = \\sin(x) + \\cos(y) + y \\ \\ (0 \\leqq x \\leqq 5 \\pi, \\ \\pi \\leqq y \\leqq 6 \\pi)\n",
    "$$\n",
    "という数式をグラフにしていくことにしましょう．\n",
    "\n",
    "``np.linspace(初めの値，最後の値，個数)``というメソッドを使うと，  \n",
    "「初めの値」から「最後の値」までを「個数」分割した等差数列が得られます．  \n",
    "次に，``np.meshgreid()``というメソッドにより，  \n",
    "``x``と``y``のベクトルを縦横に拡張した行列XとYを作ります．  \n",
    "（三次元プロットに必要になります．）\n",
    "そして``Z = np.sin(X) + np.cos(Y) + Y``とすることにより，  \n",
    "XとYから各座標におけるZを作り出します．  \n",
    "もし分かりにくければ，下のコードでprintした値を眺めればなんとなくやってることが分かると思います．\n"
   ]
  },
  {
   "cell_type": "code",
   "execution_count": null,
   "metadata": {
    "id": "ScrdvwFLls4H"
   },
   "outputs": [],
   "source": [
    "N =40\n",
    "x = np.linspace(0, 5*np.pi, N)\n",
    "y = np.linspace(np.pi, 5*np.pi, N)\n",
    "\n",
    "X, Y = np.meshgrid(x, y)\n",
    "Z = np.sin(X) + np.cos(Y) + Y\n",
    "\n",
    "print(\"xの中身\\n\",np.round(x, 2))\n",
    "print(\"yの中身\\n\",np.round(y, 2))\n",
    "print(\"Xの中身\\n\",np.round(X, 2))\n",
    "print(\"Yの中身\\n\",np.round(Y, 2))"
   ]
  },
  {
   "cell_type": "markdown",
   "metadata": {},
   "source": [
    "得られたデータを三次元にプロットする場合は，  \n",
    "``ax = fig.add_subplot()``する際に引数に``projection='3d'``を与えます．  \n",
    "そして，``ax.plot()``メソッドではなく，``ax.plot_surface()``メソッドを使いましょう．"
   ]
  },
  {
   "cell_type": "code",
   "execution_count": null,
   "metadata": {
    "id": "t-ehpuQuxFS8"
   },
   "outputs": [],
   "source": [
    "\n",
    "fig = plt.figure(figsize=(6,6))\n",
    "ax = fig.add_subplot(111, projection='3d')  #引数projectionに'3d'を与える\n",
    "surf = ax.plot_surface(X, Y, Z)  #ax.plot_surfaceで三次元プロット\n",
    "plt.show()"
   ]
  },
  {
   "cell_type": "markdown",
   "metadata": {},
   "source": [
    "``ax.plot_surface()``メソッドでプロットする際に，\n",
    "グラフのカラーのグラデーションを指定することができます．  \n",
    "例えば``cmap``引数に``'bwr'``を与えるとしたのようになります．  \n",
    "また，``fig.colorbar()``メソッドに，``ax.plot_surface()``によって作り出した``surf``を与えると  \n",
    "グラフの横にカラーバーが表示されます．\n",
    "カラーのバリエーションは[このページ](https://matplotlib.org/stable/tutorials/colors/colormaps.html)が参考になります．"
   ]
  },
  {
   "cell_type": "code",
   "execution_count": null,
   "metadata": {
    "id": "RxOyZDVVlsz3"
   },
   "outputs": [],
   "source": [
    "\n",
    "fig = plt.figure(figsize=(6,6))\n",
    "ax = fig.add_subplot(111, projection='3d')\n",
    "surf = ax.plot_surface(X, Y, Z, cmap='bwr') #cmap引数でカラーマップを指定\n",
    "fig.colorbar(surf)  #fig.colorbar()メソッドでカラーバーを表示\n",
    "plt.show()"
   ]
  },
  {
   "cell_type": "markdown",
   "metadata": {},
   "source": [
    "``ax.plot_surface()``メソッドを``ax.scatter3D()``に変えれば，\n",
    "散布図の三次元グラフを描くこともできます"
   ]
  },
  {
   "cell_type": "code",
   "execution_count": null,
   "metadata": {
    "id": "3m07o3Y1nUpK"
   },
   "outputs": [],
   "source": [
    "fig = plt.figure(figsize=(6,6))\n",
    "ax = fig.add_subplot(111, projection='3d')\n",
    "ax.scatter3D(X, Y, Z)\n",
    "plt.show()"
   ]
  },
  {
   "cell_type": "markdown",
   "metadata": {},
   "source": [
    "``ax.plot_surface()``メソッドを``ax.plot_wireframe``に変えれば，\n",
    "メッシュ型の三次元グラフを描くこともできます"
   ]
  },
  {
   "cell_type": "code",
   "execution_count": null,
   "metadata": {
    "id": "Pcck9wfgnfQn"
   },
   "outputs": [],
   "source": [
    "\n",
    "fig = plt.figure(figsize=(6,6))\n",
    "ax = fig.add_subplot(111, projection='3d')\n",
    "ax.plot_wireframe(X, Y, Z, linewidth=1)\n",
    "plt.show()"
   ]
  },
  {
   "cell_type": "markdown",
   "metadata": {
    "id": "NXw8L7lXwJD7"
   },
   "source": [
    "## カラーマップによる表現\n",
    "ここまで三次元にプロットしてきたデータは，\n",
    "二次元のグラフにカラーマップとして示すこともできます．  \n",
    "カラーマップをプロットする場合は``ax.imshow()``メソッドを使います．\n",
    "（他にもやり方はあるのですがここでは割愛します．）"
   ]
  },
  {
   "cell_type": "code",
   "execution_count": null,
   "metadata": {
    "id": "7q1P8p6uxslA"
   },
   "outputs": [],
   "source": [
    "fig = plt.figure()\n",
    "ax = fig.add_subplot(111)\n",
    "im = ax.imshow(Z)\n",
    "fig.colorbar(im)\n",
    "plt.show()"
   ]
  },
  {
   "cell_type": "markdown",
   "metadata": {},
   "source": [
    "カラーマップの場合も``cmap``引数を指定することで，色のグラデーションを変更することができます．  \n",
    "カラーのバリエーションは[このページ](https://matplotlib.org/stable/tutorials/colors/colormaps.html)が参考になります．"
   ]
  },
  {
   "cell_type": "code",
   "execution_count": null,
   "metadata": {},
   "outputs": [],
   "source": [
    "fig = plt.figure()\n",
    "ax = fig.add_subplot(111)\n",
    "im = ax.imshow(Z, cmap='jet')\n",
    "fig.colorbar(im)\n",
    "plt.show()"
   ]
  },
  {
   "cell_type": "code",
   "execution_count": null,
   "metadata": {},
   "outputs": [],
   "source": []
  },
  {
   "cell_type": "markdown",
   "metadata": {},
   "source": [
    "## おまけ　numpyを使った近似直線と曲線"
   ]
  },
  {
   "cell_type": "code",
   "execution_count": null,
   "metadata": {
    "id": "HNhHvU8Qxsbq"
   },
   "outputs": [],
   "source": [
    "np.random.seed(0)\n",
    "N = 20\n",
    "x = np.sort(np.random.uniform(0,5,N))\n",
    "y_pure = 2 * x + 5\n",
    "y = y_pure + np.random.uniform(-2,2,N)\n",
    "plt.scatter(x, y)\n",
    "plt.title(\"2x + 5 + noise\")\n",
    "plt.show()"
   ]
  },
  {
   "cell_type": "code",
   "execution_count": null,
   "metadata": {
    "id": "OE__NHV9xsTQ"
   },
   "outputs": [],
   "source": [
    "a, b = np.polyfit(x, y, 1)\n",
    "y2 = a * x + b\n",
    "\n",
    "fig=plt.figure()\n",
    "ax=fig.add_subplot(111)\n",
    "ax.scatter(x,y, alpha=0.5, label=\"data\")\n",
    "ax.plot(x, y2,color='black', label=\"regression line\", lw=2)\n",
    "# ax.plot(x, y_pure,color='red', label=\"pure\")\n",
    "ax.legend()\n",
    "ax.set_title(\"2x + 5 + noise\")\n",
    "ax.text(0.1,a*0.1+b, 'y='+ str(round(a,2)) +'x+'+str(round(b,2)), fontsize=15)\n",
    "plt.show()"
   ]
  },
  {
   "cell_type": "code",
   "execution_count": null,
   "metadata": {
    "id": "CZIvc7tw8g2F"
   },
   "outputs": [],
   "source": [
    "np.random.seed(0)\n",
    "N = 20\n",
    "x = np.sort(np.random.uniform(0,5,N))\n",
    "y_pure = np.sin(x)\n",
    "y = y_pure + np.random.uniform(-0.5,0.5,N)\n",
    "plt.scatter(x,y)\n",
    "plt.title(\"sin(x)+noise\")\n",
    "plt.show()"
   ]
  },
  {
   "cell_type": "code",
   "execution_count": null,
   "metadata": {
    "id": "QlPpPEZPxsKF"
   },
   "outputs": [],
   "source": [
    "a, b, c = np.polyfit(x, y, 2)\n",
    "x2 = np.arange(0, 5, 0.1)\n",
    "y2 = a * x2**2 + b * x2 + c\n",
    "\n",
    "fig=plt.figure()\n",
    "ax=fig.add_subplot(111)\n",
    "ax.scatter(x,y, alpha=0.5, label=\"data\")\n",
    "# ax.scatter(x, y_pure,color='red', label=\"pure\")\n",
    "ax.plot(x2, y2,color='black', label=\"regression line\", lw=2)\n",
    "ax.legend()\n",
    "ax.text(0.1,a*0.1+b, 'y='+ str(round(a,2)) +'x**2+'+str(round(b,2)) +'x+' +str(round(c,2)), fontsize=15)\n",
    "plt.show()"
   ]
  },
  {
   "cell_type": "code",
   "execution_count": null,
   "metadata": {
    "id": "4GeofJP06sfV"
   },
   "outputs": [],
   "source": [
    "a, b, c, d = np.polyfit(x, y, 3)\n",
    "x2 = np.arange(0, 5, 0.1)\n",
    "y2 = a * x2**3 + b * x2**2 + c * x2 + d\n",
    "\n",
    "fig=plt.figure()\n",
    "ax=fig.add_subplot(111)\n",
    "ax.scatter(x,y, alpha=0.5, label=\"data\")\n",
    "# ax.scatter(x, y_pure,color='red', label=\"pure\")\n",
    "ax.plot(x2, y2,color='black', label=\"regression line\", lw=2)\n",
    "ax.legend()\n",
    "ax.text(0.1,a*0.1+b, 'y='+ str(round(a,2)) +'x**3+'+str(round(b,2)) +'x**2+'+str(round(c,2)) +'x+' + str(round(d,2)), fontsize=15)\n",
    "plt.show()"
   ]
  },
  {
   "cell_type": "code",
   "execution_count": null,
   "metadata": {
    "id": "FUw6Q95k7rio"
   },
   "outputs": [],
   "source": []
  },
  {
   "cell_type": "code",
   "execution_count": null,
   "metadata": {
    "id": "aQ3CkXXBoRfP"
   },
   "outputs": [],
   "source": []
  },
  {
   "cell_type": "code",
   "execution_count": null,
   "metadata": {
    "id": "jjIcA3nQoRWF"
   },
   "outputs": [],
   "source": [
    "labels = [\"E\", \"D\", \"C\", \"B\", \"A\"] \n",
    "y = [10, 20, 30, 40, 50] \n",
    "ex = [0, 0, 0, 0, 0.1] \n",
    "\n",
    "fig=plt.figure()\n",
    "ax=fig.add_subplot(111)\n",
    "ax.pie(y, explode = ex, labels = labels, autopct = '%1.1f%%', startangle = 90) \n",
    "plt.show()"
   ]
  },
  {
   "cell_type": "code",
   "execution_count": null,
   "metadata": {
    "id": "ukzYN3FmoROa"
   },
   "outputs": [],
   "source": []
  },
  {
   "cell_type": "code",
   "execution_count": null,
   "metadata": {},
   "outputs": [],
   "source": []
  },
  {
   "cell_type": "code",
   "execution_count": null,
   "metadata": {},
   "outputs": [],
   "source": []
  },
  {
   "cell_type": "code",
   "execution_count": null,
   "metadata": {},
   "outputs": [],
   "source": []
  },
  {
   "cell_type": "code",
   "execution_count": null,
   "metadata": {},
   "outputs": [],
   "source": []
  },
  {
   "cell_type": "code",
   "execution_count": null,
   "metadata": {},
   "outputs": [],
   "source": []
  },
  {
   "cell_type": "code",
   "execution_count": null,
   "metadata": {},
   "outputs": [],
   "source": []
  },
  {
   "cell_type": "code",
   "execution_count": null,
   "metadata": {},
   "outputs": [],
   "source": []
  },
  {
   "cell_type": "code",
   "execution_count": null,
   "metadata": {},
   "outputs": [],
   "source": []
  }
 ],
 "metadata": {
  "colab": {
   "authorship_tag": "ABX9TyMtlE6qHngKdXvxJGyFV4cj",
   "collapsed_sections": [],
   "name": "研修Pythonグラフ作成.ipynb",
   "provenance": []
  },
  "kernelspec": {
   "display_name": "Python 3",
   "language": "python",
   "name": "python3"
  },
  "language_info": {
   "codemirror_mode": {
    "name": "ipython",
    "version": 3
   },
   "file_extension": ".py",
   "mimetype": "text/x-python",
   "name": "python",
   "nbconvert_exporter": "python",
   "pygments_lexer": "ipython3",
   "version": "3.8.3"
  }
 },
 "nbformat": 4,
 "nbformat_minor": 4
}
