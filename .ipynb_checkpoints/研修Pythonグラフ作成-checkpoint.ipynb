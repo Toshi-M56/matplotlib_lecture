{
 "cells": [
  {
   "cell_type": "code",
   "execution_count": 1,
   "metadata": {
    "executionInfo": {
     "elapsed": 13,
     "status": "ok",
     "timestamp": 1624721276679,
     "user": {
      "displayName": "T M",
      "photoUrl": "https://lh3.googleusercontent.com/a-/AOh14GhSFxbTu4b3Z6DL_rZfJG88M43eo3Aa6SX4XSd0_GY=s64",
      "userId": "08167140561097621644"
     },
     "user_tz": -540
    },
    "id": "DcLRGrzW6l31"
   },
   "outputs": [],
   "source": []
  },
  {
   "cell_type": "code",
   "execution_count": null,
   "metadata": {},
   "outputs": [],
   "source": []
  },
  {
   "cell_type": "markdown",
   "metadata": {},
   "source": [
    "# Pythonを使用したグラフ作成入門\n",
    "\n",
    "ここでは，グラフ描画ライブラリmatplotlibを使ったグラフ作成の基礎について学んでいきます．\n",
    "\n",
    "このホームページはColaboratoryと呼ばれるGoogleが提供するサービスで，\n",
    "\n",
    "Googleが提供するサーバを使って自由にPythonを実行することができます．\n",
    "\n",
    "Webブラウザさえあればいいため，環境構築の手間がなく，\n",
    "\n",
    "PCのスペックが低くてもネット環境さえあれば本格的なPythonプログラムを作成して実行することができます．"
   ]
  },
  {
   "cell_type": "markdown",
   "metadata": {},
   "source": [
    "## 必要なライブラリのインポート\n",
    "ここでは，matplotlibとnumpyの二つのライブラリを使うために，\n",
    "以下のようなコードを書いてimportを行います．\n",
    "\n",
    "matplotlib.pyplotはグラフ描写用のライブラリであり．\n",
    "numpyは数値計算に便利な機能が集まったライブラリです．\n",
    "\n",
    "このように書くと，matplotlib.pyplotをpltとして，numpyをnpとして利用することができるようになります．"
   ]
  },
  {
   "cell_type": "code",
   "execution_count": 1,
   "metadata": {},
   "outputs": [],
   "source": [
    "import matplotlib.pyplot as plt\n",
    "import numpy as np"
   ]
  },
  {
   "cell_type": "markdown",
   "metadata": {},
   "source": [
    "## plt.plot()によるグラフ描写\n",
    "\n",
    "まず，グラフとしてプロットするデータを乱数で生成しましょう．\n",
    "\n",
    "np.random.randn(10)のように書くと正規分布に従った乱数を10個生成することができます．\n",
    "\n",
    "その10個のデータをdataという変数に代入しています．\n",
    "\n",
    "np.random.seed(0)は乱数シードの固定です．\n",
    "細かいことはここでは省きますが，これにより何度実行しても同じ乱数値を生成することができます．"
   ]
  },
  {
   "cell_type": "code",
   "execution_count": 2,
   "metadata": {
    "colab": {
     "base_uri": "https://localhost:8080/"
    },
    "executionInfo": {
     "elapsed": 430,
     "status": "ok",
     "timestamp": 1624721279470,
     "user": {
      "displayName": "T M",
      "photoUrl": "https://lh3.googleusercontent.com/a-/AOh14GhSFxbTu4b3Z6DL_rZfJG88M43eo3Aa6SX4XSd0_GY=s64",
      "userId": "08167140561097621644"
     },
     "user_tz": -540
    },
    "id": "tq5r9hPp6qJW",
    "outputId": "5f8fe5b1-ba8d-4233-876c-0539b33b28d9"
   },
   "outputs": [
    {
     "name": "stdout",
     "output_type": "stream",
     "text": [
      "[ 1.76405235  0.40015721  0.97873798  2.2408932   1.86755799 -0.97727788\n",
      "  0.95008842 -0.15135721 -0.10321885  0.4105985 ]\n"
     ]
    }
   ],
   "source": [
    "np.random.seed(0) #乱数シードの固定\n",
    "data = np.random.randn(10) #10個の乱数を作りdataに代入\n",
    "print(data) #dataの中身を表示"
   ]
  },
  {
   "cell_type": "markdown",
   "metadata": {},
   "source": [
    "次に，dataに入った10個の数値をグラフにプロットしてみましょう．\n",
    "\n",
    "plt.plot()メソッド(関数)を以下のように使い，\n",
    "その後にplt.show()メソッドを実行すると表示されます．"
   ]
  },
  {
   "cell_type": "code",
   "execution_count": 6,
   "metadata": {
    "colab": {
     "base_uri": "https://localhost:8080/",
     "height": 265
    },
    "executionInfo": {
     "elapsed": 552,
     "status": "ok",
     "timestamp": 1624721282019,
     "user": {
      "displayName": "T M",
      "photoUrl": "https://lh3.googleusercontent.com/a-/AOh14GhSFxbTu4b3Z6DL_rZfJG88M43eo3Aa6SX4XSd0_GY=s64",
      "userId": "08167140561097621644"
     },
     "user_tz": -540
    },
    "id": "TD8QVvXo6-ld",
    "outputId": "8f274b73-e590-4d07-a027-029138c8151e"
   },
   "outputs": [
    {
     "data": {
      "image/png": "[encoded data removed]",
      "text/plain": [
       "<Figure size 432x288 with 1 Axes>"
      ]
     },
     "metadata": {
      "needs_background": "light"
     },
     "output_type": "display_data"
    }
   ],
   "source": [
    "plt.plot(data) #dataの値をグラフにプロット\n",
    "plt.show() #グラフを画面に表示する"
   ]
  },
  {
   "cell_type": "code",
   "execution_count": 3,
   "metadata": {
    "executionInfo": {
     "elapsed": 3,
     "status": "ok",
     "timestamp": 1624721285158,
     "user": {
      "displayName": "T M",
      "photoUrl": "https://lh3.googleusercontent.com/a-/AOh14GhSFxbTu4b3Z6DL_rZfJG88M43eo3Aa6SX4XSd0_GY=s64",
      "userId": "08167140561097621644"
     },
     "user_tz": -540
    },
    "id": "s6hthxUkntWW"
   },
   "outputs": [],
   "source": []
  },
  {
   "cell_type": "code",
   "execution_count": 4,
   "metadata": {
    "colab": {
     "base_uri": "https://localhost:8080/",
     "height": 265
    },
    "executionInfo": {
     "elapsed": 634,
     "status": "ok",
     "timestamp": 1624721286831,
     "user": {
      "displayName": "T M",
      "photoUrl": "https://lh3.googleusercontent.com/a-/AOh14GhSFxbTu4b3Z6DL_rZfJG88M43eo3Aa6SX4XSd0_GY=s64",
      "userId": "08167140561097621644"
     },
     "user_tz": -540
    },
    "id": "1E2l5x3VntIj",
    "outputId": "0bddde4b-5eef-4961-c473-1319b54ba46c"
   },
   "outputs": [
    {
     "data": {
      "image/png": "[encoded data removed]",
      "text/plain": [
       "<Figure size 432x288 with 1 Axes>"
      ]
     },
     "metadata": {
      "needs_background": "light",
      "tags": []
     },
     "output_type": "display_data"
    }
   ],
   "source": [
    "fig = plt.figure()\n",
    "ax = fig.add_subplot(111)\n",
    "ax.plot(data)\n",
    "plt.show()"
   ]
  },
  {
   "cell_type": "code",
   "execution_count": 5,
   "metadata": {
    "colab": {
     "base_uri": "https://localhost:8080/",
     "height": 672
    },
    "executionInfo": {
     "elapsed": 748,
     "status": "ok",
     "timestamp": 1624721294584,
     "user": {
      "displayName": "T M",
      "photoUrl": "https://lh3.googleusercontent.com/a-/AOh14GhSFxbTu4b3Z6DL_rZfJG88M43eo3Aa6SX4XSd0_GY=s64",
      "userId": "08167140561097621644"
     },
     "user_tz": -540
    },
    "id": "5-2Hh8Pvr-c1",
    "outputId": "efd60086-ee1b-4b47-9f86-c214625c8ccb"
   },
   "outputs": [
    {
     "data": {
      "image/png": "[encoded data removed]",
      "text/plain": [
       "<Figure size 1200x800 with 1 Axes>"
      ]
     },
     "metadata": {
      "needs_background": "light",
      "tags": []
     },
     "output_type": "display_data"
    }
   ],
   "source": [
    "\n",
    "fig = plt.figure(dpi=200)\n",
    "ax = fig.add_subplot(111)\n",
    "ax.plot(data)\n",
    "plt.show()"
   ]
  },
  {
   "cell_type": "code",
   "execution_count": null,
   "metadata": {
    "id": "QmxhqAOC7cWO"
   },
   "outputs": [],
   "source": [
    "fig = plt.figure()\n",
    "ax = fig.add_subplot(111)\n",
    "ax.plot(data, marker='o')\n",
    "plt.show()\n",
    "\"\"\"\n",
    "マーカーバリエーション\n",
    "https://matplotlib.org/stable/api/markers_api.html\n",
    "\"\"\""
   ]
  },
  {
   "cell_type": "code",
   "execution_count": null,
   "metadata": {
    "id": "ABLycOQ_8DZB"
   },
   "outputs": [],
   "source": [
    "fig = plt.figure()\n",
    "ax = fig.add_subplot(111)\n",
    "ax.plot(data, marker='o')\n",
    "ax.grid()\n",
    "plt.show()"
   ]
  },
  {
   "cell_type": "code",
   "execution_count": null,
   "metadata": {
    "id": "wlRmnFKM8iKd"
   },
   "outputs": [],
   "source": [
    "fig = plt.figure()\n",
    "ax = fig.add_subplot(111)\n",
    "ax.plot(data, marker='o')\n",
    "ax.set_title('random data')\n",
    "ax.set_xlabel('x axis')\n",
    "ax.set_ylabel('y axis')\n",
    "plt.show()"
   ]
  },
  {
   "cell_type": "code",
   "execution_count": null,
   "metadata": {
    "id": "BpAQKxqx8pRm"
   },
   "outputs": [],
   "source": [
    "!pip install japanize-matplotlib\n",
    "import japanize_matplotlib "
   ]
  },
  {
   "cell_type": "code",
   "execution_count": null,
   "metadata": {
    "id": "3mQHf7Bd9DJ_"
   },
   "outputs": [],
   "source": [
    "fig = plt.figure()\n",
    "ax = fig.add_subplot(111)\n",
    "ax.plot(data, marker='o')\n",
    "ax.set_title('ランダムデータ')\n",
    "ax.set_xlabel('x軸')\n",
    "ax.set_ylabel('y軸')\n",
    "plt.show()"
   ]
  },
  {
   "cell_type": "code",
   "execution_count": null,
   "metadata": {
    "id": "Ffk11Jc59T8A"
   },
   "outputs": [],
   "source": [
    "fig = plt.figure()\n",
    "ax = fig.add_subplot(111)\n",
    "ax.plot(data, marker='o')\n",
    "ax.set_title('random data', fontsize=20)\n",
    "ax.set_xlabel('x axis', fontsize=20)\n",
    "ax.set_ylabel('y axis', fontsize=20)\n",
    "plt.show()"
   ]
  },
  {
   "cell_type": "code",
   "execution_count": null,
   "metadata": {
    "id": "H3BGUNP7-bqc"
   },
   "outputs": [],
   "source": [
    "np.random.seed(0)\n",
    "data1 = np.random.randn(10)+5.0\n",
    "data2 = np.random.randn(10)+3.0\n",
    "data3 = np.random.randn(10)+2.0"
   ]
  },
  {
   "cell_type": "code",
   "execution_count": null,
   "metadata": {
    "id": "qH2zTrzi_EbN"
   },
   "outputs": [],
   "source": [
    "fig = plt.figure()\n",
    "ax = fig.add_subplot(111)\n",
    "ax.plot(data1, marker='o')\n",
    "ax.plot(data2, marker='o')\n",
    "ax.plot(data3, marker='o')\n",
    "plt.show()"
   ]
  },
  {
   "cell_type": "code",
   "execution_count": null,
   "metadata": {
    "id": "ASSvMt0a_EW_"
   },
   "outputs": [],
   "source": [
    "fig = plt.figure()\n",
    "ax = fig.add_subplot(111)\n",
    "ax.plot(data1, marker='o', color='red')\n",
    "ax.plot(data2, marker='o', color='blue')\n",
    "ax.plot(data3, marker='o', color='green')\n",
    "plt.show()\n",
    "\"\"\"\n",
    "カラーバリエーション\n",
    "https://matplotlib.org/stable/gallery/color/named_colors.html\n",
    "\"\"\""
   ]
  },
  {
   "cell_type": "code",
   "execution_count": null,
   "metadata": {
    "id": "jbasuIEq_EST"
   },
   "outputs": [],
   "source": [
    "fig = plt.figure()\n",
    "ax = fig.add_subplot(111)\n",
    "ax.plot(data1, marker='o', color='red', label='Data1')\n",
    "ax.plot(data2, marker='o', color='blue', label='Data2')\n",
    "ax.plot(data3, marker='o', color='green', label='Data3')\n",
    "ax.legend(loc='upper right')\n",
    "plt.show()\n",
    "\"\"\"\n",
    "位置のバリエーション\n",
    "https://matplotlib.org/stable/api/_as_gen/matplotlib.pyplot.legend.html\n",
    "\"\"\""
   ]
  },
  {
   "cell_type": "code",
   "execution_count": null,
   "metadata": {
    "id": "VPWcaemZ_ENF"
   },
   "outputs": [],
   "source": [
    "fig = plt.figure()\n",
    "ax = fig.add_subplot(111)\n",
    "ax.plot(data1, marker='o', color='red', linestyle='--')\n",
    "ax.plot(data2, marker='o', color='blue', linestyle='-')\n",
    "ax.plot(data3, marker='o', color='green', linestyle=':')\n",
    "ax.legend(loc='upper right')\n",
    "plt.show()\n"
   ]
  },
  {
   "cell_type": "code",
   "execution_count": null,
   "metadata": {
    "id": "wEl8unmm_D73"
   },
   "outputs": [],
   "source": [
    "fig = plt.figure(dpi=200)\n",
    "ax = fig.add_subplot(111)\n",
    "\n",
    "ax.plot(data1, marker='o', color='red', label='Sample1', linestyle='--')\n",
    "ax.plot(data2, marker='o', color='blue', label='Sample2', linestyle='-')\n",
    "ax.plot(data3, marker='o', color='green', label='Sample3', linestyle=':')\n",
    "ax.grid()\n",
    "ax.set_title('random data', fontsize=20)\n",
    "ax.set_xlabel('x axis', fontsize=20)\n",
    "ax.set_ylabel('y axis', fontsize=20)\n",
    "\n",
    "ax.legend(loc='upper right')\n",
    "plt.show()"
   ]
  },
  {
   "cell_type": "code",
   "execution_count": null,
   "metadata": {
    "id": "wMPZ8ZniCCjJ"
   },
   "outputs": [],
   "source": []
  },
  {
   "cell_type": "code",
   "execution_count": null,
   "metadata": {
    "id": "W2U8_oW5CCb-"
   },
   "outputs": [],
   "source": [
    "np.random.seed(1)\n",
    "N=25\n",
    "m_age = (10 + 25 * np.random.rand(N)).astype(np.int)\n",
    "m_height = 170 - 108 * np.exp(-0.2 * m_age) + 2 * np.random.randn(N)\n",
    "# m_height = 170 - 108 * np.exp(-0.2 * m_age) \n",
    "f_age = (10 + 25 * np.random.rand(N)).astype(np.int)\n",
    "f_height = 160 - 108 * np.exp(-0.3 * f_age) + 2 * np.random.randn(N)\n",
    "# f_height = 160 - 108 * np.exp(-0.3 * f_age) "
   ]
  },
  {
   "cell_type": "code",
   "execution_count": null,
   "metadata": {
    "id": "vaW15VfSCCKd"
   },
   "outputs": [],
   "source": [
    "fig = plt.figure()\n",
    "ax = fig.add_subplot(111)\n",
    "ax.scatter(m_age, m_height)\n",
    "ax.scatter(f_age, f_height)"
   ]
  },
  {
   "cell_type": "code",
   "execution_count": null,
   "metadata": {
    "id": "M9_HVbZDCkdp"
   },
   "outputs": [],
   "source": [
    "fig = plt.figure()\n",
    "ax = fig.add_subplot(111)\n",
    "ax.scatter(m_age, m_height, color='blue')\n",
    "ax.scatter(f_age, f_height, color='red')"
   ]
  },
  {
   "cell_type": "code",
   "execution_count": null,
   "metadata": {
    "id": "osWQ8tObGRes"
   },
   "outputs": [],
   "source": [
    "fig = plt.figure()\n",
    "ax = fig.add_subplot(111)\n",
    "ax.scatter(m_age, m_height, color='blue', marker='o')\n",
    "ax.scatter(f_age, f_height, color='red', marker='^')"
   ]
  },
  {
   "cell_type": "code",
   "execution_count": null,
   "metadata": {
    "id": "ejugsQCiG-Xy"
   },
   "outputs": [],
   "source": [
    "fig = plt.figure()\n",
    "ax = fig.add_subplot(111)\n",
    "ax.scatter(m_age, m_height, color='blue', s=20)\n",
    "ax.scatter(f_age, f_height, color='red', s=60)"
   ]
  },
  {
   "cell_type": "code",
   "execution_count": null,
   "metadata": {
    "id": "-UXZViKFHN00"
   },
   "outputs": [],
   "source": []
  },
  {
   "cell_type": "code",
   "execution_count": null,
   "metadata": {
    "id": "stDg0_ZpHUJH"
   },
   "outputs": [],
   "source": [
    "np.random.seed(0)\n",
    "N=6\n",
    "data = np.random.rand(N)\n",
    "X = list(range(N))\n",
    "print(data)\n",
    "print(X)"
   ]
  },
  {
   "cell_type": "code",
   "execution_count": null,
   "metadata": {
    "id": "qiGNf5aWHUCf"
   },
   "outputs": [],
   "source": [
    "fig = plt.figure()\n",
    "ax = fig.add_subplot(111)\n",
    "ax.bar(X,data)\n",
    "plt.show()"
   ]
  },
  {
   "cell_type": "code",
   "execution_count": null,
   "metadata": {
    "id": "c4Az0kabHTuo"
   },
   "outputs": [],
   "source": [
    "Name = [\"a\",\"b\",\"c\",\"d\",\"e\",\"f\"]\n",
    "\n",
    "fig = plt.figure()\n",
    "ax = fig.add_subplot(111)\n",
    "ax.bar(Name,data)\n",
    "plt.show()"
   ]
  },
  {
   "cell_type": "code",
   "execution_count": null,
   "metadata": {
    "id": "LV8rihphiE4L"
   },
   "outputs": [],
   "source": [
    "fig = plt.figure()\n",
    "ax = fig.add_subplot(111)\n",
    "ax.barh(Name,data)\n",
    "plt.show()"
   ]
  },
  {
   "cell_type": "code",
   "execution_count": null,
   "metadata": {
    "id": "tWdjVXxRjjou"
   },
   "outputs": [],
   "source": []
  },
  {
   "cell_type": "code",
   "execution_count": null,
   "metadata": {
    "id": "GgFbj2e5j8BT"
   },
   "outputs": [],
   "source": [
    "np.random.seed(0)\n",
    "N=6\n",
    "data1 = np.random.rand(N)\n",
    "data2 = np.random.rand(N)\n",
    "data3 = np.random.rand(N)\n",
    "X = list(range(N))"
   ]
  },
  {
   "cell_type": "code",
   "execution_count": null,
   "metadata": {
    "id": "KhNgWAa8j7vN"
   },
   "outputs": [],
   "source": [
    "fig = plt.figure(figsize=(9,3))\n",
    "ax1 = fig.add_subplot(131)\n",
    "ax1.bar(X, data1)\n",
    "\n",
    "ax2 = fig.add_subplot(132)\n",
    "ax2.bar(X, data2)\n",
    "\n",
    "ax3 = fig.add_subplot(133)\n",
    "ax3.bar(X, data3)\n",
    "plt.show()"
   ]
  },
  {
   "cell_type": "code",
   "execution_count": null,
   "metadata": {
    "id": "iLmruB2nkg_A"
   },
   "outputs": [],
   "source": [
    "fig = plt.figure()\n",
    "ax = fig.add_subplot(111)\n",
    "ax.bar(X, data1)\n",
    "ax.bar(X, data2, bottom=data1)\n",
    "ax.bar(X, data3, bottom=data1+data2)"
   ]
  },
  {
   "cell_type": "code",
   "execution_count": null,
   "metadata": {
    "id": "CmwU7qeak9xi"
   },
   "outputs": [],
   "source": []
  },
  {
   "cell_type": "code",
   "execution_count": null,
   "metadata": {
    "id": "1zTJEmV5ls-t"
   },
   "outputs": [],
   "source": [
    "\n",
    "from mpl_toolkits.mplot3d import axes3d"
   ]
  },
  {
   "cell_type": "code",
   "execution_count": null,
   "metadata": {
    "id": "ScrdvwFLls4H"
   },
   "outputs": [],
   "source": [
    "N =40\n",
    "x = np.linspace(0, 5*np.pi, N)\n",
    "y = np.linspace(0, 5*np.pi, N)\n",
    "\n",
    "X, Y = np.meshgrid(x, y)\n",
    "Z = np.sin(X) + np.cos(Y) + Y\n",
    "\n",
    "print(\"xとyの中身\\n\",np.round(x, 1))\n",
    "print(\"Xの中身\\n\",np.round(X, 1))\n",
    "print(\"Yの中身\\n\",np.round(Y, 1))"
   ]
  },
  {
   "cell_type": "code",
   "execution_count": null,
   "metadata": {
    "id": "t-ehpuQuxFS8"
   },
   "outputs": [],
   "source": [
    "\n",
    "fig = plt.figure()\n",
    "ax = fig.add_subplot(111, projection='3d')\n",
    "surf = ax.plot_surface(X, Y, Z)\n",
    "fig.show()"
   ]
  },
  {
   "cell_type": "code",
   "execution_count": null,
   "metadata": {
    "id": "RxOyZDVVlsz3"
   },
   "outputs": [],
   "source": [
    "\n",
    "fig = plt.figure()\n",
    "ax = fig.add_subplot(111, projection='3d')\n",
    "surf = ax.plot_surface(X, Y, Z, cmap='bwr')\n",
    "fig.colorbar(surf)\n",
    "fig.show()"
   ]
  },
  {
   "cell_type": "code",
   "execution_count": null,
   "metadata": {
    "id": "3m07o3Y1nUpK"
   },
   "outputs": [],
   "source": [
    "\n",
    "fig = plt.figure()\n",
    "ax = fig.add_subplot(111, projection='3d')\n",
    "ax.scatter3D(X, Y, Z)\n",
    "fig.show()"
   ]
  },
  {
   "cell_type": "code",
   "execution_count": null,
   "metadata": {
    "id": "Pcck9wfgnfQn"
   },
   "outputs": [],
   "source": [
    "\n",
    "fig = plt.figure()\n",
    "ax = fig.add_subplot(111, projection='3d')\n",
    "ax.plot_wireframe(X, Y, Z, linewidth=1)\n",
    "fig.show()"
   ]
  },
  {
   "cell_type": "code",
   "execution_count": null,
   "metadata": {
    "id": "NXw8L7lXwJD7"
   },
   "outputs": [],
   "source": []
  },
  {
   "cell_type": "code",
   "execution_count": null,
   "metadata": {
    "id": "QlccG0ySxswG"
   },
   "outputs": [],
   "source": [
    "fig = plt.figure()\n",
    "ax = fig.add_subplot(111)\n",
    "im = ax.imshow(Z)\n",
    "fig.colorbar(im)\n",
    "plt.show()"
   ]
  },
  {
   "cell_type": "code",
   "execution_count": null,
   "metadata": {
    "id": "7q1P8p6uxslA"
   },
   "outputs": [],
   "source": []
  },
  {
   "cell_type": "code",
   "execution_count": null,
   "metadata": {
    "id": "HNhHvU8Qxsbq"
   },
   "outputs": [],
   "source": [
    "np.random.seed(0)\n",
    "N = 20\n",
    "x = np.sort(np.random.uniform(0,5,N))\n",
    "y_pure = 2 * x + 5\n",
    "y = y_pure + np.random.uniform(-2,2,N)\n",
    "plt.scatter(x, y)\n",
    "plt.title(\"2x + 5 + noise\")\n",
    "plt.show()"
   ]
  },
  {
   "cell_type": "code",
   "execution_count": null,
   "metadata": {
    "id": "OE__NHV9xsTQ"
   },
   "outputs": [],
   "source": [
    "a, b = np.polyfit(x, y, 1)\n",
    "y2 = a * x + b\n",
    "\n",
    "fig=plt.figure()\n",
    "ax=fig.add_subplot(111)\n",
    "ax.scatter(x,y, alpha=0.5, label=\"data\")\n",
    "ax.plot(x, y2,color='black', label=\"regression line\", lw=2)\n",
    "# ax.plot(x, y_pure,color='red', label=\"pure\")\n",
    "ax.legend()\n",
    "ax.set_title(\"2x + 5 + noise\")\n",
    "ax.text(0.1,a*0.1+b, 'y='+ str(round(a,2)) +'x+'+str(round(b,2)), fontsize=15)\n",
    "plt.show()"
   ]
  },
  {
   "cell_type": "code",
   "execution_count": null,
   "metadata": {
    "id": "CZIvc7tw8g2F"
   },
   "outputs": [],
   "source": [
    "np.random.seed(0)\n",
    "N = 20\n",
    "x = np.sort(np.random.uniform(0,5,N))\n",
    "y_pure = np.sin(x)\n",
    "y = y_pure + np.random.uniform(-0.5,0.5,N)\n",
    "plt.scatter(x,y)\n",
    "plt.title(\"sin(x)+noise\")\n",
    "plt.show()"
   ]
  },
  {
   "cell_type": "code",
   "execution_count": null,
   "metadata": {
    "id": "QlPpPEZPxsKF"
   },
   "outputs": [],
   "source": [
    "\n",
    "\n",
    "a, b, c = np.polyfit(x, y, 2)\n",
    "y2 = a * x**2 + b * x + c\n",
    "\n",
    "fig=plt.figure()\n",
    "ax=fig.add_subplot(111)\n",
    "ax.scatter(x,y, alpha=0.5, label=\"data\")\n",
    "# ax.scatter(x, y_pure,color='red', label=\"pure\")\n",
    "ax.plot(x, y2,color='black', label=\"regression line\", lw=2)\n",
    "ax.legend()\n",
    "ax.text(0.1,a*0.1+b, 'y='+ str(round(a,2)) +'x**2+'+str(round(b,2)) +'x+' +str(round(c,2)), fontsize=15)\n",
    "plt.show()"
   ]
  },
  {
   "cell_type": "code",
   "execution_count": null,
   "metadata": {
    "id": "4GeofJP06sfV"
   },
   "outputs": [],
   "source": [
    "\n",
    "\n",
    "a, b, c, d = np.polyfit(x, y, 3)\n",
    "y2 = a * x**3 + b * x**2 + c * x + d\n",
    "\n",
    "fig=plt.figure()\n",
    "ax=fig.add_subplot(111)\n",
    "ax.scatter(x,y, alpha=0.5, label=\"data\")\n",
    "# ax.scatter(x, y_pure,color='red', label=\"pure\")\n",
    "ax.plot(x, y2,color='black', label=\"regression line\", lw=2)\n",
    "ax.legend()\n",
    "ax.text(0.1,a*0.1+b, 'y='+ str(round(a,2)) +'x**3+'+str(round(b,2)) +'x**2+'+str(round(c,2)) +'x+' + str(round(d,2)), fontsize=15)\n",
    "plt.show()"
   ]
  },
  {
   "cell_type": "code",
   "execution_count": null,
   "metadata": {
    "id": "FUw6Q95k7rio"
   },
   "outputs": [],
   "source": []
  },
  {
   "cell_type": "code",
   "execution_count": null,
   "metadata": {
    "id": "aQ3CkXXBoRfP"
   },
   "outputs": [],
   "source": []
  },
  {
   "cell_type": "code",
   "execution_count": null,
   "metadata": {
    "id": "jjIcA3nQoRWF"
   },
   "outputs": [],
   "source": [
    "labels = [\"E\", \"D\", \"C\", \"B\", \"A\"] \n",
    "y = [10, 20, 30, 40, 50] \n",
    "ex = [0, 0, 0, 0, 0.1] \n",
    "\n",
    "fig=plt.figure()\n",
    "ax=fig.add_subplot(111)\n",
    "ax.pie(y, explode = ex, labels = labels, autopct = '%1.1f%%', startangle = 90) \n",
    "plt.show()"
   ]
  },
  {
   "cell_type": "code",
   "execution_count": null,
   "metadata": {
    "id": "ukzYN3FmoROa"
   },
   "outputs": [],
   "source": []
  }
 ],
 "metadata": {
  "colab": {
   "authorship_tag": "ABX9TyMtlE6qHngKdXvxJGyFV4cj",
   "collapsed_sections": [],
   "name": "研修Pythonグラフ作成.ipynb",
   "provenance": []
  },
  "kernelspec": {
   "display_name": "Python 3",
   "language": "python",
   "name": "python3"
  },
  "language_info": {
   "codemirror_mode": {
    "name": "ipython",
    "version": 3
   },
   "file_extension": ".py",
   "mimetype": "text/x-python",
   "name": "python",
   "nbconvert_exporter": "python",
   "pygments_lexer": "ipython3",
   "version": "3.8.3"
  }
 },
 "nbformat": 4,
 "nbformat_minor": 4
}
